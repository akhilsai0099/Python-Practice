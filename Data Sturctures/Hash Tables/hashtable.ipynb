{
 "metadata": {
  "language_info": {
   "codemirror_mode": {
    "name": "ipython",
    "version": 3
   },
   "file_extension": ".py",
   "mimetype": "text/x-python",
   "name": "python",
   "nbconvert_exporter": "python",
   "pygments_lexer": "ipython3",
   "version": "3.8.5-final"
  },
  "orig_nbformat": 2,
  "kernelspec": {
   "name": "python_defaultSpec_1598688107665",
   "display_name": "Python 3.8.5 32-bit"
  }
 },
 "nbformat": 4,
 "nbformat_minor": 2,
 "cells": [
  {
   "cell_type": "markdown",
   "metadata": {},
   "source": [
    "# HashTable without handling collisions"
   ]
  },
  {
   "cell_type": "code",
   "execution_count": null,
   "metadata": {},
   "outputs": [],
   "source": [
    "class HashTable:\n",
    "    def __init__(self):\n",
    "        self.Max = 10\n",
    "        self.arr = [None for i in range(self.Max)]\n",
    "\n",
    "\n",
    "    def get_hash(self , key):\n",
    "        sum = 0\n",
    "        for a in key:\n",
    "            sum += ord(a)\n",
    "        return sum % self.Max\n",
    "\n",
    "    def __setitem__(self , key , value):\n",
    "        h = self.get_hash(key)\n",
    "        self.arr[h] = value\n",
    "\n",
    "    def __getitem__(self , key):\n",
    "        h = self.get_hash(key)\n",
    "        return self.arr[h]\n"
   ]
  },
  {
   "cell_type": "code",
   "execution_count": null,
   "metadata": {},
   "outputs": [],
   "source": [
    "t = HashTable()\n",
    "t.get_hash(\"akhil\")"
   ]
  },
  {
   "cell_type": "markdown",
   "metadata": {},
   "source": [
    "# handling collisions"
   ]
  },
  {
   "cell_type": "code",
   "execution_count": null,
   "metadata": {},
   "outputs": [],
   "source": [
    "class HashTable:\n",
    "    def __init__(self):\n",
    "        self.Max = 10\n",
    "        self.arr = [[] for arr in range(self.Max)]\n",
    "\n",
    "    def get_hash(self , key):\n",
    "        h = 0\n",
    "        for char in key:\n",
    "            h += ord(char)\n",
    "        return h % self.Max\n",
    "    \n",
    "    def __setitem__(self , key , value):\n",
    "        h = self.get_hash(key)\n",
    "        found = False\n",
    "        for ind, element in enumerate(self.arr[h]):\n",
    "            if len(element) == 2 and element[0] == key:\n",
    "                self.arr[h][ind] = (key,value)\n",
    "                found = True\n",
    "        if not found:\n",
    "            self.arr[h].append((key,value))\n",
    "            \n",
    "    def __getitem__(self , key):\n",
    "        h = self.get_hash(key)\n",
    "        for kv in self.arr[h]:\n",
    "            if kv[0] == key:\n",
    "                print(kv[1])\n",
    "                return kv[1]\n",
    "\n",
    "    def __delitem__(self, key):\n",
    "        arr_index = self.get_hash(key)\n",
    "        for index, kv in enumerate(self.arr[arr_index]):\n",
    "            if kv[0] == key:\n",
    "                print(\"del\",index)\n",
    "                del self.arr[arr_index][index]"
   ]
  },
  {
   "cell_type": "code",
   "execution_count": null,
   "metadata": {
    "tags": []
   },
   "outputs": [],
   "source": [
    "t = HashTable()\n",
    "t[\"march 6\"] = 22\n",
    "t[\"march 17\"] = 120\n",
    "t[\"march 12\"] = 'hello'\n",
    "print(t.arr)\n",
    "\n"
   ]
  },
  {
   "cell_type": "markdown",
   "metadata": {},
   "source": [
    "# Exercise 1 reading the csv file"
   ]
  },
  {
   "cell_type": "code",
   "execution_count": null,
   "metadata": {
    "tags": []
   },
   "outputs": [],
   "source": [
    "arr = []\n",
    "\n",
    "with open(\"nyc_weather.csv\",\"r\") as f:\n",
    "    for line in f:\n",
    "        tokens = line.split(',')\n",
    "        try:\n",
    "            temperature = int(tokens[1])\n",
    "            arr.append(temperature)\n",
    "        except:\n",
    "            print(\"Invalid temperature.Ignore the row\")"
   ]
  },
  {
   "cell_type": "markdown",
   "metadata": {},
   "source": [
    "What was the average temperature in first week of Jan"
   ]
  },
  {
   "cell_type": "code",
   "execution_count": null,
   "metadata": {},
   "outputs": [],
   "source": [
    "avg = sum(arr[0:7])/len(arr[0:7])\n",
    "avg"
   ]
  },
  {
   "cell_type": "markdown",
   "metadata": {},
   "source": [
    "What was the maximum temperature in first 10 days of Jan"
   ]
  },
  {
   "cell_type": "code",
   "execution_count": null,
   "metadata": {},
   "outputs": [],
   "source": [
    "max(arr)"
   ]
  },
  {
   "cell_type": "markdown",
   "metadata": {},
   "source": [
    "What was the temperature on Jan 9?"
   ]
  },
  {
   "cell_type": "code",
   "execution_count": null,
   "metadata": {
    "tags": []
   },
   "outputs": [],
   "source": [
    "dict = {}\n",
    "with open(\"nyc_weather.csv\" , \"r\") as file:\n",
    "    for line in file:\n",
    "        tokens = line.split(\",\")\n",
    "        try: \n",
    "            temperature = int(tokens[1])\n",
    "            dict[tokens[0]] = temperature\n",
    "        except:\n",
    "            print(\"Invalid temperature.Ignore the row\")\n"
   ]
  },
  {
   "cell_type": "code",
   "execution_count": null,
   "metadata": {
    "tags": []
   },
   "outputs": [],
   "source": [
    "print(dict[\"Jan 9\"])\n",
    "print(dict[\"Jan 4\"])\n"
   ]
  },
  {
   "cell_type": "markdown",
   "metadata": {},
   "source": [
    "# Exercise 3 counting the words in a file"
   ]
  },
  {
   "cell_type": "markdown",
   "metadata": {},
   "source": [
    "Contains famous poem \"Road not taken\" by poet Robert Frost. You have to read this file in python and print every word and its count as show below. Think about the best data structure that you can use to solve this problem and figure out why you selected that specific data structure.\n",
    "```\n",
    " 'diverged': 2,\n",
    " 'in': 3,\n",
    " 'I': 8\n",
    "```"
   ]
  },
  {
   "cell_type": "code",
   "execution_count": null,
   "metadata": {
    "tags": []
   },
   "outputs": [],
   "source": [
    "words = {}\n",
    "with open(\"poem.txt\" , \"r\") as file:\n",
    "    for line in file:\n",
    "        tokens = line.split(\" \")\n",
    "        for token in tokens:\n",
    "            token = token.replace(\"\\n\",\"\")\n",
    "            if token in words:\n",
    "                words[token] += 1\n",
    "            else:\n",
    "                words[token] = 1\n",
    "\n",
    "    "
   ]
  },
  {
   "cell_type": "code",
   "execution_count": null,
   "metadata": {},
   "outputs": [],
   "source": [
    "words"
   ]
  },
  {
   "cell_type": "markdown",
   "metadata": {},
   "source": [
    "# HashTable with linear Probing"
   ]
  },
  {
   "cell_type": "code",
   "execution_count": 160,
   "metadata": {},
   "outputs": [],
   "source": [
    "class HashTable:\n",
    "    def __init__(self):\n",
    "        self.Max = 10\n",
    "        self.arr = [None for arr in range(self.Max)]\n",
    "\n",
    "    def get_hash(self , key):\n",
    "        h = 0\n",
    "        for char in key:\n",
    "            h += ord(char)\n",
    "        return h % self.Max\n",
    "    \n",
    "    def __setitem__(self , key , value):\n",
    "        h = self.get_hash(key)\n",
    "        if self.arr[h] is None:\n",
    "            self.arr[h] = (key, value)\n",
    "        else:\n",
    "            new_h = self.get_empty_slot(key , h)\n",
    "            self.arr[new_h] = (key,value)\n",
    "\n",
    "\n",
    "            \n",
    "    def __getitem__(self , key):\n",
    "        h = self.get_hash(key)\n",
    "        if self.arr[h] is None:\n",
    "            return\n",
    "        probe_range = self.get_probe_range(h)\n",
    "        for probe_index in probe_range:\n",
    "            element = self.arr[probe_index]\n",
    "            if element is None:\n",
    "                return\n",
    "            if element[0] == key:\n",
    "                return element[1]\n",
    "            \n",
    "\n",
    "    def get_probe_range(self , index):\n",
    "        return [*range(index , self.Max)] + [*range(0 , index)]\n",
    "    \n",
    "\n",
    "    def get_empty_slot(self,key ,index):\n",
    "        probe_range = self.get_probe_range(index)\n",
    "        for probe_index in probe_range:\n",
    "            if self.arr[probe_index] is None:\n",
    "                return probe_index\n",
    "            if self.arr[probe_index] == key:\n",
    "                return probe_index\n",
    "        raise Exception(\"There is no empty space\")\n",
    "\n",
    "\n",
    "    def __delitem__(self, key):\n",
    "        h = self.get_hash(key)\n",
    "        probe_range = self.get_probe_range(h)\n",
    "        for probe_index in probe_range:\n",
    "            if self.arr[probe_index] is None:\n",
    "                return\n",
    "            if self.arr[probe_index][0] == key:\n",
    "                self.arr[probe_index] = None\n",
    "\n",
    "\n"
   ]
  },
  {
   "cell_type": "code",
   "execution_count": 164,
   "metadata": {
    "tags": []
   },
   "outputs": [
    {
     "output_type": "execute_result",
     "data": {
      "text/plain": "[('march 17', 234),\n ('march 7', 3),\n ('march 174', 233),\n ('march 172', 123),\n ('march 1', 2),\n ('march 137', 263),\n None,\n ('march 97', 239),\n None,\n ('march 6', 120)]"
     },
     "metadata": {},
     "execution_count": 164
    }
   ],
   "source": [
    "t = HashTable()\n",
    "t.arr\n",
    "t[\"march 6\"] = 120\n",
    "t[\"march 17\"] = 234\n",
    "t[\"march 1\"] = 2\n",
    "t[\"march 7\"] = 3\n",
    "t[\"march 97\"] = 239\n",
    "t[\"march 174\"] = 233\n",
    "t[\"march 172\"] = 123\n",
    "t[\"march 137\"] = 263\n",
    "t[\"march 147\"] = 253\n",
    "t[\"march 177\"] = 283\n",
    "\n",
    "del t[\"march 177\"]\n",
    "del t[\"march 147\"]\n",
    "t.arr"
   ]
  }
 ]
}